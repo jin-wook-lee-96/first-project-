{
 "cells": [
  {
   "cell_type": "code",
   "execution_count": 340,
   "id": "6a2780db",
   "metadata": {},
   "outputs": [],
   "source": [
    "import pandas as pd\n",
    "import numpy as np\n",
    "import matplotlib.pyplot as plt\n",
    "import seaborn as sns\n",
    "sns.set_theme(style='whitegrid', font_scale=1.5)\n",
    "sns.set_palette('Set2', n_colors=10)\n",
    "plt.rc('font', family='AppleGothic')\n",
    "plt.rc('axes', unicode_minus=False)\n",
    "\n",
    "import streamlit as st\n",
    "from datetime import date"
   ]
  },
  {
   "cell_type": "code",
   "execution_count": 341,
   "id": "bbcec92b",
   "metadata": {},
   "outputs": [],
   "source": [
    "df1 = pd.read_csv('final2.csv',encoding = 'cp949')\n",
    "qwe = pd.read_excel('폐업_count.xlsx',sheet_name = None)\n",
    "locals().update(qwe)"
   ]
  },
  {
   "cell_type": "code",
   "execution_count": 342,
   "id": "8460c781",
   "metadata": {},
   "outputs": [],
   "source": [
    "전체폐업 = 전체폐업.set_index('year')\n",
    "구별폐업 = 구별폐업.set_index('year')"
   ]
  },
  {
   "cell_type": "code",
   "execution_count": 343,
   "id": "56fece14",
   "metadata": {
    "scrolled": true
   },
   "outputs": [],
   "source": [
    "df1['인허가일자'] = pd.to_datetime(df1['인허가일자'], format= '%Y-%m-%d')\n",
    "df1['폐업일자'] = pd.to_datetime(df1['폐업일자'], format= '%Y-%m-%d')"
   ]
  },
  {
   "cell_type": "code",
   "execution_count": 344,
   "id": "6392c0fa",
   "metadata": {},
   "outputs": [],
   "source": [
    "st.set_page_config(page_title = '폐업 Dashboard',\n",
    "                  page_icon = '🍚', layout = 'wide')\n",
    "st.title('Date App Dashboard')\n",
    "if st.button('새로고침'):\n",
    "    st.experimental_rerun()"
   ]
  },
  {
   "cell_type": "code",
   "execution_count": 345,
   "id": "802a2c9f",
   "metadata": {},
   "outputs": [],
   "source": [
    "my_df1 = df1.copy()\n",
    "st.sidebar.title(\"조건 필터\")\n",
    "st.sidebar.header(\"날짜 조건\")\n",
    "col1, col2 = st.sidebar.columns(2)\n",
    "with col1:\n",
    "    start_date = st.date_input(\"시작일시\", date(2018, 1, 1),\n",
    "                                       min_value=date(2018,1,1),\n",
    "                                       max_value=date(2021,12,30))\n",
    "with col2:\n",
    "    end_date = st.date_input(\"종료일시\", date(2021, 12, 31),\n",
    "                                     min_value=date(2019,1,2),\n",
    "                                     max_value=date(2021,12,31))\n",
    "my_df1 = my_df1[my_df1['인허가일자'].dt.date.between(start_date, end_date)]\n",
    "\n",
    "option01 = st.sidebar.checkbox('영업중제외', value = False)\n",
    "if option01:\n",
    "    my_df1 = my_df1[my_df1['영업상태코드']!= 1]\n",
    "    \n",
    "st.sidebar.header('✈️지역분류')\n",
    "option02 = st.sidebar.multiselect('구별_대분류', (my_df1.지번주소_대범주.unique()), default=(my_df1.지번주소_대범주.unique())) # default 값 -> 모든게 선택되어있게 설정\n",
    "my_df1 = my_df1[my_df1.지번주소_대범주.isin(option02)]\n",
    "option03 = st.sidebar.multiselect('구별_소분류', (my_df1.지번주소_소범주.unique()), default=(my_df1.지번주소_소범주.unique()))\n",
    "my_df1 = my_df1[my_df1.지번주소_소범주.isin(option03)]\n",
    "\n",
    "st.sidebar.header('🍎업태분류')\n",
    "option04 = st.sidebar.multiselect('음식점 업태분류', (my_df1.업태구분명.unique()), default=(my_df1.업태구분명.unique())) # default 값 -> 모든게 선택되어있게 설정\n",
    "my_df1 = my_df1[my_df1.업태구분명.isin(option04)]\n"
   ]
  },
  {
   "cell_type": "code",
   "execution_count": 346,
   "id": "ea1ceeca",
   "metadata": {},
   "outputs": [
    {
     "data": {
      "text/plain": [
       "DeltaGenerator(_root_container=0, _provided_cursor=None, _parent=None, _block_type=None, _form_data=None)"
      ]
     },
     "execution_count": 346,
     "metadata": {},
     "output_type": "execute_result"
    }
   ],
   "source": [
    "st.header('1. 인허가 및 폐업 현황 분석')\n",
    "\n",
    "st.subheader('인허가')\n",
    "time_frame = st.selectbox('연도별/월별',\n",
    "                          ('인허가년도','인허가월')) #선택한 값이 저장됌\n",
    "whole_values = my_df1.groupby(time_frame)[['개방자치단체코드']].count()\n",
    "st.area_chart(whole_values, use_container_width = True)\n",
    "\n",
    "st.subheader('폐업')\n",
    "st.area_chart(전체폐업 , use_container_width = True)"
   ]
  },
  {
   "cell_type": "code",
   "execution_count": 347,
   "id": "ab2c0848",
   "metadata": {},
   "outputs": [
    {
     "data": {
      "text/plain": [
       "DeltaGenerator(_root_container=0, _provided_cursor=None, _parent=None, _block_type=None, _form_data=None)"
      ]
     },
     "execution_count": 347,
     "metadata": {},
     "output_type": "execute_result"
    }
   ],
   "source": [
    "st.subheader('지역별 비교_인허가')\n",
    "\n",
    "city_range = st.radio(label=\"범위선택\", options=(\"구단위\", \"동단위\"), index=0)\n",
    "\n",
    "if city_range=='구단위':\n",
    "    city_range='지번주소_대범주'\n",
    "    small_region=False\n",
    "else:\n",
    "    city_range='지번주소_소범주'\n",
    "    small_region = st.multiselect(\"동선택\", (my_df1.지번주소_소범주.unique()), (my_df1.지번주소_소범주.unique()))\n",
    "\n",
    "if small_region==False:\n",
    "    city_values = my_df1\n",
    "else:\n",
    "    city_values = my_df1[my_df1['지번주소_소범주'].isin(small_region)]\n",
    "    \n",
    "city_values = pd.pivot_table(city_values, index=time_frame, columns=city_range, \n",
    "                             values='개방자치단체코드', aggfunc='count',fill_value=0)\n",
    "city_values.index.name = None\n",
    "city_values.columns = list(city_values.columns)\n",
    "\n",
    "st.line_chart(city_values, use_container_width=True)\n",
    "\n",
    "st.subheader('지역별 비교_폐업')\n",
    "st.line_chart(구별폐업)\n"
   ]
  },
  {
   "cell_type": "code",
   "execution_count": 348,
   "id": "e351c39c",
   "metadata": {},
   "outputs": [
    {
     "data": {
      "text/plain": [
       "DeltaGenerator(_root_container=0, _provided_cursor=None, _parent=None, _block_type=None, _form_data=None)"
      ]
     },
     "execution_count": 348,
     "metadata": {},
     "output_type": "execute_result"
    }
   ],
   "source": [
    "st.subheader('2.음식점 지역별 분포')\n",
    "my_df1 = my_df1.rename(columns={'경도':'lon','위도':'lat'})\n",
    "jit = np.random.randn(len(my_df1), 2)\n",
    "jit_ratio = 0.01\n",
    "my_df1[['lat','lon']] = my_df1[['lat','lon']] + jit*jit_ratio\n",
    "st.map(my_df1)"
   ]
  }
 ],
 "metadata": {
  "kernelspec": {
   "display_name": "Python 3 (ipykernel)",
   "language": "python",
   "name": "python3"
  },
  "language_info": {
   "codemirror_mode": {
    "name": "ipython",
    "version": 3
   },
   "file_extension": ".py",
   "mimetype": "text/x-python",
   "name": "python",
   "nbconvert_exporter": "python",
   "pygments_lexer": "ipython3",
   "version": "3.9.12"
  }
 },
 "nbformat": 4,
 "nbformat_minor": 5
}
